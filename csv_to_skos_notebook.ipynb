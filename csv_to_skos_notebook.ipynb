{
 "cells": [
  {
   "cell_type": "code",
   "execution_count": 1,
   "metadata": {},
   "outputs": [],
   "source": [
    "import pandas as pd\n",
    "import datetime\n",
    "from lxml import etree as ET"
   ]
  },
  {
   "cell_type": "code",
   "execution_count": 2,
   "metadata": {},
   "outputs": [],
   "source": [
    "# Load the data\n",
    "df = pd.read_csv('INSERT_HERE', sep=\";\", index_col=False)"
   ]
  },
  {
   "cell_type": "code",
   "execution_count": null,
   "metadata": {},
   "outputs": [],
   "source": [
    "df.head()"
   ]
  },
  {
   "cell_type": "code",
   "execution_count": 4,
   "metadata": {},
   "outputs": [],
   "source": [
    "# Create a lookup dictionary to map term names to IDs\n",
    "lookup_dict = dict(zip(df['Term'], df['ID']))\n",
    "\n",
    "# Replace the term names in the 'Target' column with their corresponding IDs\n",
    "df['Target'] = df['Target'].map(lookup_dict)"
   ]
  },
  {
   "cell_type": "code",
   "execution_count": null,
   "metadata": {},
   "outputs": [],
   "source": [
    "df.head()"
   ]
  },
  {
   "cell_type": "code",
   "execution_count": 6,
   "metadata": {},
   "outputs": [],
   "source": [
    "# Define the namespaces\n",
    "namespaces = {\n",
    "    'rdf': 'http://www.w3.org/1999/02/22-rdf-syntax-ns#',\n",
    "    'rdfs': 'http://www.w3.org/2000/01/rdf-schema#',\n",
    "    'skos': 'http://www.w3.org/2004/02/skos/core#',\n",
    "    'map': 'http://www.w3c.rl.ac.uk/2003/11/21-skos-mapping#',\n",
    "    'dct': 'http://purl.org/dc/terms/',\n",
    "    'dc': 'http://purl.org/dc/elements/1.1/',\n",
    "    'xml': 'http://www.w3.org/XML/1998/namespace'\n",
    "}"
   ]
  },
  {
   "cell_type": "code",
   "execution_count": 7,
   "metadata": {},
   "outputs": [],
   "source": [
    "# Create an empty XML document with a root element of RDF\n",
    "root = ET.Element(f\"{{{namespaces['rdf']}}}RDF\", nsmap=namespaces)"
   ]
  },
  {
   "cell_type": "code",
   "execution_count": 9,
   "metadata": {},
   "outputs": [],
   "source": [
    "# Create the ConceptScheme element and add it to the root\n",
    "concept_scheme = ET.SubElement(root, f\"{{{namespaces['skos']}}}ConceptScheme\",\n",
    "                               attrib={f\"{{{namespaces['rdf']}}}about\": \"INSERT_HERE\"})\n",
    "ET.SubElement(concept_scheme, f\"{{{namespaces['dc']}}}title\").text = \"INSERT_HERE\"\n",
    "ET.SubElement(concept_scheme, f\"{{{namespaces['dc']}}}creator\").text = \"INSERT_HERE\"\n",
    "ET.SubElement(concept_scheme, f\"{{{namespaces['dc']}}}contributor\")\n",
    "ET.SubElement(concept_scheme, f\"{{{namespaces['dc']}}}publisher\")\n",
    "ET.SubElement(concept_scheme, f\"{{{namespaces['dc']}}}rights\")\n",
    "ET.SubElement(concept_scheme, f\"{{{namespaces['dc']}}}subject\")\n",
    "ET.SubElement(concept_scheme, f\"{{{namespaces['dc']}}}description\").text = \"<![CDATA[ ]]>\"\n",
    "ET.SubElement(concept_scheme, f\"{{{namespaces['dc']}}}date\").text = datetime.datetime.now().strftime('%Y-%m-%d')\n",
    "ET.SubElement(concept_scheme, f\"{{{namespaces['dct']}}}modified\").text = datetime.datetime.now().strftime('%Y-%m-%d %H:%M:%S')\n",
    "ET.SubElement(concept_scheme, f\"{{{namespaces['dc']}}}language\").text = \"en-EN\""
   ]
  },
  {
   "cell_type": "code",
   "execution_count": 10,
   "metadata": {},
   "outputs": [],
   "source": [
    "# Create a dictionary to store the relations\n",
    "relations = {}\n",
    "\n",
    "# Create a dictionary to store the XML elements for each ID\n",
    "elements = {}"
   ]
  },
  {
   "cell_type": "code",
   "execution_count": 11,
   "metadata": {},
   "outputs": [],
   "source": [
    "# Iterate over the dataframe and create the XML elements\n",
    "for i, row in df.iterrows():\n",
    "    # Create a new Concept element\n",
    "    concept = ET.Element(f\"{{{namespaces['skos']}}}Concept\",\n",
    "                         attrib={f\"{{{namespaces['rdf']}}}about\": f\"INSERT_HERE{int(row['ID'])}\"})\n",
    "\n",
    "    # Add the prefLabel, definition, note, inScheme, created, and exactMatch elements\n",
    "    if pd.notna(row['Term']):\n",
    "        ET.SubElement(concept, f\"{{{namespaces['skos']}}}prefLabel\", attrib={f\"{{{namespaces['xml']}}}lang\": \"en-EN\"}).text = row['Term']\n",
    "    if pd.notna(row['Definition']):\n",
    "        ET.SubElement(concept, f\"{{{namespaces['skos']}}}definition\", attrib={f\"{{{namespaces['xml']}}}lang\": \"en-EN\"}).text = row['Definition']\n",
    "    if pd.notna(row['BibNote']):\n",
    "        ET.SubElement(concept, f\"{{{namespaces['skos']}}}note\", attrib={f\"{{{namespaces['xml']}}}lang\": \"en-EN\"}).text = row['BibNote']\n",
    "    ET.SubElement(concept, f\"{{{namespaces['skos']}}}inScheme\", attrib={f\"{{{namespaces['rdf']}}}resource\": \"INSERT_HERE\"})\n",
    "    ET.SubElement(concept, f\"{{{namespaces['dct']}}}created\").text = datetime.datetime.now().strftime('%Y-%m-%d %H:%M:%S')\n",
    "    if pd.notna(row['SourceIRI']):\n",
    "        exact_match = ET.SubElement(concept, f\"{{{namespaces['skos']}}}exactMatch\")\n",
    "        ET.SubElement(exact_match, f\"{{{namespaces['skos']}}}Concept\", attrib={f\"{{{namespaces['rdf']}}}about\": row['SourceIRI']})\n",
    "\n",
    "    # If there is a relation, add it to the relations dictionary\n",
    "    if pd.notna(row['RelType']) and pd.notna(row['Target']):\n",
    "        if row['RelType'] not in relations:\n",
    "            relations[row['RelType']] = {}\n",
    "        if row['ID'] not in relations[row['RelType']]:\n",
    "            relations[row['RelType']][row['ID']] = []\n",
    "        relations[row['RelType']][row['ID']].append(int(row['Target']))\n",
    "\n",
    "    # Add the concept to the elements dictionary\n",
    "    elements[int(row['ID'])] = concept"
   ]
  },
  {
   "cell_type": "code",
   "execution_count": 12,
   "metadata": {},
   "outputs": [],
   "source": [
    "# Add the relations to the concepts\n",
    "for rel_type, ids in relations.items():\n",
    "    for id, targets in ids.items():\n",
    "        for target in targets:\n",
    "            if rel_type == \"RT\":\n",
    "                ET.SubElement(elements[id], f\"{{{namespaces['skos']}}}related\",\n",
    "                               attrib={f\"{{{namespaces['rdf']}}}resource\": f\"INSERT_HERE{target}\"})\n",
    "                ET.SubElement(elements[target], f\"{{{namespaces['skos']}}}related\",\n",
    "                               attrib={f\"{{{namespaces['rdf']}}}resource\": f\"INSERT_HERE{id}\"})\n",
    "            elif rel_type == \"BT\":\n",
    "                ET.SubElement(elements[id], f\"{{{namespaces['skos']}}}broader\",\n",
    "                               attrib={f\"{{{namespaces['rdf']}}}resource\": f\"INSERT_HERE{target}\"})\n",
    "                ET.SubElement(elements[target], f\"{{{namespaces['skos']}}}narrower\",\n",
    "                               attrib={f\"{{{namespaces['rdf']}}}resource\": f\"INSERT_HERE{id}\"})\n"
   ]
  },
  {
   "cell_type": "code",
   "execution_count": 13,
   "metadata": {},
   "outputs": [],
   "source": [
    "# Add the concepts to the root\n",
    "for id, element in elements.items():\n",
    "    root.append(element)"
   ]
  },
  {
   "cell_type": "code",
   "execution_count": 14,
   "metadata": {},
   "outputs": [],
   "source": [
    "# Create an XML string\n",
    "xml_str = ET.tostring(root, pretty_print=True, encoding=\"unicode\")"
   ]
  },
  {
   "cell_type": "code",
   "execution_count": 15,
   "metadata": {},
   "outputs": [],
   "source": [
    "# Write the XML string to a file\n",
    "with open('output.rdf', 'w') as f:\n",
    "    f.write(xml_str)"
   ]
  }
 ],
 "metadata": {
  "kernelspec": {
   "display_name": "env_master",
   "language": "python",
   "name": "python3"
  },
  "language_info": {
   "codemirror_mode": {
    "name": "ipython",
    "version": 3
   },
   "file_extension": ".py",
   "mimetype": "text/x-python",
   "name": "python",
   "nbconvert_exporter": "python",
   "pygments_lexer": "ipython3",
   "version": "3.8.12"
  },
  "orig_nbformat": 4
 },
 "nbformat": 4,
 "nbformat_minor": 2
}
